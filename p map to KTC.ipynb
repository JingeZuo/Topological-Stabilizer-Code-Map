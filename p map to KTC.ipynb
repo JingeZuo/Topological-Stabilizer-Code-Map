{
 "cells": [
  {
   "metadata": {
    "ExecuteTime": {
     "end_time": "2025-08-31T10:15:09.711922Z",
     "start_time": "2025-08-31T10:15:09.702404Z"
    }
   },
   "cell_type": "code",
   "source": [
    "from itertools import combinations\n",
    "import numpy as np\n",
    "from z3 import *\n",
    "from functools import reduce\n",
    "import sympy as sp\n",
    "from sympy import Mul, Pow, Add\n",
    "x=sp.Symbol('x')\n",
    "y=sp.Symbol('y')\n",
    "def antimap(f):\n",
    "    f = sp.expand(f)\n",
    "    if isinstance(f, sp.Basic):\n",
    "        term=f.as_ordered_terms()\n",
    "        exp=0\n",
    "        for i in range(len(term)):\n",
    "            coef,vari=term[i].as_coeff_Mul()\n",
    "            exp=exp+coef*vari**-1\n",
    "        return exp\n",
    "    else:\n",
    "        return sp.expand(f)\n",
    "\n",
    "def commute(a,b):\n",
    "    a = sp.Matrix(a).T\n",
    "    b = sp.Matrix(b).T\n",
    "    lamb=sp.Matrix([[0,0,1,0],\n",
    "          [0,0,0,1],\n",
    "          [-1,0,0,0],\n",
    "          [0,-1,0,0]])\n",
    "    aa=[]\n",
    "    for i in range(len(a)):\n",
    "        aa.append(antimap(a[i]))\n",
    "    aa=sp.Matrix(aa)\n",
    "    return (aa.T*lamb*b)[0]\n",
    "x1=sp.Matrix([1,0,0,0]).T\n",
    "x2=sp.Matrix([0,1,0,0]).T\n",
    "z1=sp.Matrix([0,0,1,0]).T\n",
    "z2=sp.Matrix([0,0,0,1]).T\n",
    "basis=[]\n",
    "basis.append(x1)\n",
    "basis.append(x2)\n",
    "basis.append(z1)\n",
    "basis.append(z2)\n",
    "def excimap(*A):\n",
    "    s=[]\n",
    "    for i,M in enumerate(A):\n",
    "        s.append(M)\n",
    "    excitation=[]\n",
    "    for i in range(len(basis)):\n",
    "        a=[]\n",
    "        for j in range(len(s)):\n",
    "            a.append(commute(s[j],basis[i]))\n",
    "        excitation.append(a)\n",
    "    return excitation\n"
   ],
   "id": "b5bb4833e6c182e3",
   "outputs": [],
   "execution_count": 37
  },
  {
   "metadata": {
    "ExecuteTime": {
     "end_time": "2025-08-31T10:15:10.618717Z",
     "start_time": "2025-08-31T10:15:10.602401Z"
    }
   },
   "cell_type": "code",
   "source": [
    "f1=1-x**-2\n",
    "f2=1-y**-1\n",
    "s1=(1/x-1)*x1+(1/y-1)*x2+(1-y)*z1+(x-1)*z2\n",
    "s2=2*(1+y)*z1+2*(1+x)*z2\n",
    "s3=2*x1+2/y*z2\n",
    "s4=2*x2+2/x*z1\n",
    "print(excimap(s1,s2,s3,s4))\n",
    "\n",
    "\n"
   ],
   "id": "108b970f6b0a931e",
   "outputs": [
    {
     "name": "stdout",
     "output_type": "stream",
     "text": [
      "[[-1 + 1/y, -2 - 2/y, 0, -2*x], [1 - 1/x, -2 - 2/x, -2*y, 0], [x - 1, 0, 2, 0], [y - 1, 0, 0, 2]]\n"
     ]
    }
   ],
   "execution_count": 38
  },
  {
   "metadata": {
    "ExecuteTime": {
     "end_time": "2025-08-31T10:10:56.917644Z",
     "start_time": "2025-08-31T10:10:56.902032Z"
    }
   },
   "cell_type": "code",
   "source": [
    "s=[]\n",
    "s.append(s1)\n",
    "s.append(s2)\n",
    "s.append(s3)\n",
    "s.append(s4)\n",
    "excitation=[]\n",
    "for i in range(len(basis)):\n",
    "    a=[]\n",
    "    for j in range(len(s)):\n",
    "        a.append(commute(s[j],basis[i]))\n",
    "    excitation.append(a)\n",
    "print(excitation)"
   ],
   "id": "f0536b94dc01870c",
   "outputs": [
    {
     "name": "stdout",
     "output_type": "stream",
     "text": [
      "[[-1 + 1/y, -2 - 2/y, 0, -2*x], [1 - 1/x, -2 - 2/x, -2*y, 0], [x - 1, 0, 2, 0], [y - 1, 0, 0, 2]]\n"
     ]
    }
   ],
   "execution_count": 33
  }
 ],
 "metadata": {
  "kernelspec": {
   "display_name": "Python 3",
   "language": "python",
   "name": "python3"
  },
  "language_info": {
   "codemirror_mode": {
    "name": "ipython",
    "version": 2
   },
   "file_extension": ".py",
   "mimetype": "text/x-python",
   "name": "python",
   "nbconvert_exporter": "python",
   "pygments_lexer": "ipython2",
   "version": "2.7.6"
  }
 },
 "nbformat": 4,
 "nbformat_minor": 5
}
