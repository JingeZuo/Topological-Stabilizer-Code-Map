{
 "cells": [
  {
   "metadata": {
    "ExecuteTime": {
     "end_time": "2025-09-01T13:07:09.067105Z",
     "start_time": "2025-09-01T13:07:09.033255Z"
    }
   },
   "cell_type": "code",
   "source": [
    "from itertools import combinations\n",
    "import numpy as np\n",
    "from z3 import *\n",
    "from functools import reduce\n",
    "import sympy as sp\n",
    "from sympy import Mul, Pow, Add\n",
    "x=sp.Symbol('x')\n",
    "y=sp.Symbol('y')\n",
    "def antimap(f):\n",
    "    f = sp.expand(f)\n",
    "    term=f.as_ordered_terms()\n",
    "    exp=0\n",
    "    for i in range(len(term)):\n",
    "        coef,vari=term[i].as_coeff_Mul()\n",
    "        exp=exp+coef%2*vari**-1\n",
    "    return exp\n",
    "def commute(a,b):\n",
    "    a = sp.Matrix(a)\n",
    "    b = sp.Matrix(b)\n",
    "    lamb=sp.Matrix([[0,0,1,0],\n",
    "          [0,0,0,1],\n",
    "          [-1,0,0,0],\n",
    "          [0,-1,0,0]])\n",
    "    aa=[]\n",
    "    for i in range(len(a)):\n",
    "        aa.append(antimap(a[i]))\n",
    "    aa=sp.Matrix(aa)\n",
    "    f=(aa.T*lamb*b)[0]\n",
    "    f = sp.expand(f)\n",
    "    term=f.as_ordered_terms()\n",
    "    exp=0\n",
    "    for i in range(len(term)):\n",
    "        coef,vari=term[i].as_coeff_Mul()\n",
    "        exp=exp+coef%2*vari\n",
    "    return sp.simplify(exp)\n",
    "x1=sp.Matrix([1,0,0,0])\n",
    "x2=sp.Matrix([0,1,0,0])\n",
    "z1=sp.Matrix([0,0,1,0])\n",
    "z2=sp.Matrix([0,0,0,1])\n",
    "basis=[]\n",
    "basis.append(x1)\n",
    "basis.append(x2)\n",
    "basis.append(z1)\n",
    "basis.append(z2)\n",
    "basis=sp.Matrix(basis)\n",
    "def excimap(*A,oper):\n",
    "    s=[]\n",
    "    for i,M in enumerate(A):\n",
    "        s.append(M)\n",
    "    excitation=[]\n",
    "    for i in range(len(s)):\n",
    "        excitation.append(commute(s[i],oper))\n",
    "    return sp.Matrix(excitation).T\n",
    "def tdmap(f,m):\n",
    "    vari=[]\n",
    "    for j in range(2*m+1):\n",
    "        for i in range(2*m+1):\n",
    "            vari.append(x**(i-m)*y**(j-m))\n",
    "    s=[]\n",
    "    for i in range(len(vari)):\n",
    "        s.append(vari[i]*f)\n",
    "    return sp.Matrix(s)\n",
    "def m1(*a,m):\n",
    "    M1=[]\n",
    "    M1.append(tdmap(excimap(*a,oper=x1),m))\n",
    "    M1.append(tdmap(excimap(*a,oper=x2),m))\n",
    "    M1.append(tdmap(excimap(*a,oper=z1),m))\n",
    "    M1.append(tdmap(excimap(*a,oper=z2),m))\n",
    "    M1=sp.Matrix(M1)\n",
    "    return M1"
   ],
   "id": "8b368787f28cc82b",
   "outputs": [],
   "execution_count": 171
  },
  {
   "metadata": {
    "ExecuteTime": {
     "end_time": "2025-09-01T11:26:46.360607Z",
     "start_time": "2025-09-01T11:17:08.572828Z"
    }
   },
   "cell_type": "code",
   "source": "",
   "id": "20f1af145037661a",
   "outputs": [
    {
     "ename": "KeyboardInterrupt",
     "evalue": "",
     "output_type": "error",
     "traceback": [
      "\u001B[1;31m---------------------------------------------------------------------------\u001B[0m",
      "\u001B[1;31mKeyboardInterrupt\u001B[0m                         Traceback (most recent call last)",
      "Cell \u001B[1;32mIn[153], line 4\u001B[0m\n\u001B[0;32m      2\u001B[0m s2\u001B[38;5;241m=\u001B[39m(\u001B[38;5;241m1\u001B[39m\u001B[38;5;241m-\u001B[39my)\u001B[38;5;241m*\u001B[39mz1\u001B[38;5;241m+\u001B[39m(x\u001B[38;5;241m-\u001B[39m\u001B[38;5;241m1\u001B[39m)\u001B[38;5;241m*\u001B[39mz2\n\u001B[0;32m      3\u001B[0m m\u001B[38;5;241m=\u001B[39mm1(s1,s2,m\u001B[38;5;241m=\u001B[39m\u001B[38;5;241m3\u001B[39m)\n\u001B[1;32m----> 4\u001B[0m mm\u001B[38;5;241m=\u001B[39mm\u001B[38;5;241m.\u001B[39mrow_join(sp\u001B[38;5;241m.\u001B[39meye(m\u001B[38;5;241m.\u001B[39mrows))\u001B[38;5;241m.\u001B[39mrref()[\u001B[38;5;241m0\u001B[39m]\n\u001B[0;32m      5\u001B[0m \u001B[38;5;28mprint\u001B[39m(mm\u001B[38;5;241m.\u001B[39mshape)\n",
      "File \u001B[1;32m~\\.conda\\envs\\z\\Lib\\site-packages\\sympy\\matrices\\matrixbase.py:3141\u001B[0m, in \u001B[0;36mMatrixBase.rref\u001B[1;34m(self, iszerofunc, simplify, pivots, normalize_last)\u001B[0m\n\u001B[0;32m   3139\u001B[0m \u001B[38;5;28;01mdef\u001B[39;00m \u001B[38;5;21mrref\u001B[39m(\u001B[38;5;28mself\u001B[39m, iszerofunc\u001B[38;5;241m=\u001B[39m_iszero, simplify\u001B[38;5;241m=\u001B[39m\u001B[38;5;28;01mFalse\u001B[39;00m, pivots\u001B[38;5;241m=\u001B[39m\u001B[38;5;28;01mTrue\u001B[39;00m,\n\u001B[0;32m   3140\u001B[0m         normalize_last\u001B[38;5;241m=\u001B[39m\u001B[38;5;28;01mTrue\u001B[39;00m):\n\u001B[1;32m-> 3141\u001B[0m     \u001B[38;5;28;01mreturn\u001B[39;00m _rref(\u001B[38;5;28mself\u001B[39m, iszerofunc\u001B[38;5;241m=\u001B[39miszerofunc, simplify\u001B[38;5;241m=\u001B[39msimplify,\n\u001B[0;32m   3142\u001B[0m         pivots\u001B[38;5;241m=\u001B[39mpivots, normalize_last\u001B[38;5;241m=\u001B[39mnormalize_last)\n",
      "File \u001B[1;32m~\\.conda\\envs\\z\\Lib\\site-packages\\sympy\\matrices\\reductions.py:381\u001B[0m, in \u001B[0;36m_rref\u001B[1;34m(M, iszerofunc, simplify, pivots, normalize_last)\u001B[0m\n\u001B[0;32m    378\u001B[0m     \u001B[38;5;28;01melse\u001B[39;00m:\n\u001B[0;32m    379\u001B[0m         simpfunc \u001B[38;5;241m=\u001B[39m _simplify\n\u001B[1;32m--> 381\u001B[0m     mat, pivot_cols, _ \u001B[38;5;241m=\u001B[39m _row_reduce(M, iszerofunc, simpfunc,\n\u001B[0;32m    382\u001B[0m             normalize_last, normalize\u001B[38;5;241m=\u001B[39m\u001B[38;5;28;01mTrue\u001B[39;00m, zero_above\u001B[38;5;241m=\u001B[39m\u001B[38;5;28;01mTrue\u001B[39;00m)\n\u001B[0;32m    384\u001B[0m \u001B[38;5;28;01mif\u001B[39;00m pivots:\n\u001B[0;32m    385\u001B[0m     \u001B[38;5;28;01mreturn\u001B[39;00m mat, pivot_cols\n",
      "File \u001B[1;32m~\\.conda\\envs\\z\\Lib\\site-packages\\sympy\\matrices\\reductions.py:127\u001B[0m, in \u001B[0;36m_row_reduce\u001B[1;34m(M, iszerofunc, simpfunc, normalize_last, normalize, zero_above)\u001B[0m\n\u001B[0;32m    124\u001B[0m \u001B[38;5;28;01mdef\u001B[39;00m \u001B[38;5;21m_row_reduce\u001B[39m(M, iszerofunc, simpfunc, normalize_last\u001B[38;5;241m=\u001B[39m\u001B[38;5;28;01mTrue\u001B[39;00m,\n\u001B[0;32m    125\u001B[0m                 normalize\u001B[38;5;241m=\u001B[39m\u001B[38;5;28;01mTrue\u001B[39;00m, zero_above\u001B[38;5;241m=\u001B[39m\u001B[38;5;28;01mTrue\u001B[39;00m):\n\u001B[1;32m--> 127\u001B[0m     mat, pivot_cols, swaps \u001B[38;5;241m=\u001B[39m _row_reduce_list(\u001B[38;5;28mlist\u001B[39m(M), M\u001B[38;5;241m.\u001B[39mrows, M\u001B[38;5;241m.\u001B[39mcols, M\u001B[38;5;241m.\u001B[39mone,\n\u001B[0;32m    128\u001B[0m             iszerofunc, simpfunc, normalize_last\u001B[38;5;241m=\u001B[39mnormalize_last,\n\u001B[0;32m    129\u001B[0m             normalize\u001B[38;5;241m=\u001B[39mnormalize, zero_above\u001B[38;5;241m=\u001B[39mzero_above)\n\u001B[0;32m    131\u001B[0m     \u001B[38;5;28;01mreturn\u001B[39;00m M\u001B[38;5;241m.\u001B[39m_new(M\u001B[38;5;241m.\u001B[39mrows, M\u001B[38;5;241m.\u001B[39mcols, mat), pivot_cols, swaps\n",
      "File \u001B[1;32m~\\.conda\\envs\\z\\Lib\\site-packages\\sympy\\matrices\\reductions.py:68\u001B[0m, in \u001B[0;36m_row_reduce_list\u001B[1;34m(mat, rows, cols, one, iszerofunc, simpfunc, normalize_last, normalize, zero_above)\u001B[0m\n\u001B[0;32m     65\u001B[0m \u001B[38;5;66;03m# use a fraction free method to zero above and below each pivot\u001B[39;00m\n\u001B[0;32m     66\u001B[0m \u001B[38;5;28;01mwhile\u001B[39;00m piv_col \u001B[38;5;241m<\u001B[39m cols \u001B[38;5;129;01mand\u001B[39;00m piv_row \u001B[38;5;241m<\u001B[39m rows:\n\u001B[0;32m     67\u001B[0m     pivot_offset, pivot_val, \\\n\u001B[1;32m---> 68\u001B[0m     assumed_nonzero, newly_determined \u001B[38;5;241m=\u001B[39m _find_reasonable_pivot(\n\u001B[0;32m     69\u001B[0m             get_col(piv_col)[piv_row:], iszerofunc, simpfunc)\n\u001B[0;32m     71\u001B[0m     \u001B[38;5;66;03m# _find_reasonable_pivot may have simplified some things\u001B[39;00m\n\u001B[0;32m     72\u001B[0m     \u001B[38;5;66;03m# in the process.  Let's not let them go to waste\u001B[39;00m\n\u001B[0;32m     73\u001B[0m     \u001B[38;5;28;01mfor\u001B[39;00m (offset, val) \u001B[38;5;129;01min\u001B[39;00m newly_determined:\n",
      "File \u001B[1;32m~\\.conda\\envs\\z\\Lib\\site-packages\\sympy\\matrices\\determinant.py:82\u001B[0m, in \u001B[0;36m_find_reasonable_pivot\u001B[1;34m(col, iszerofunc, simpfunc)\u001B[0m\n\u001B[0;32m     80\u001B[0m \u001B[38;5;28;01mif\u001B[39;00m possible_zeros[i] \u001B[38;5;129;01mis\u001B[39;00m \u001B[38;5;129;01mnot\u001B[39;00m \u001B[38;5;28;01mNone\u001B[39;00m:\n\u001B[0;32m     81\u001B[0m     \u001B[38;5;28;01mcontinue\u001B[39;00m\n\u001B[1;32m---> 82\u001B[0m simped \u001B[38;5;241m=\u001B[39m simpfunc(x)\n\u001B[0;32m     83\u001B[0m is_zero \u001B[38;5;241m=\u001B[39m iszerofunc(simped)\n\u001B[0;32m     84\u001B[0m \u001B[38;5;28;01mif\u001B[39;00m is_zero \u001B[38;5;129;01min\u001B[39;00m (\u001B[38;5;28;01mTrue\u001B[39;00m, \u001B[38;5;28;01mFalse\u001B[39;00m):\n",
      "File \u001B[1;32m~\\.conda\\envs\\z\\Lib\\site-packages\\sympy\\matrices\\utilities.py:72\u001B[0m, in \u001B[0;36m_simplify\u001B[1;34m(expr)\u001B[0m\n\u001B[0;32m     70\u001B[0m \u001B[38;5;250m\u001B[39m\u001B[38;5;124;03m\"\"\" Wrapper to avoid circular imports. \"\"\"\u001B[39;00m\n\u001B[0;32m     71\u001B[0m \u001B[38;5;28;01mfrom\u001B[39;00m \u001B[38;5;21;01msympy\u001B[39;00m\u001B[38;5;21;01m.\u001B[39;00m\u001B[38;5;21;01msimplify\u001B[39;00m\u001B[38;5;21;01m.\u001B[39;00m\u001B[38;5;21;01msimplify\u001B[39;00m \u001B[38;5;28;01mimport\u001B[39;00m simplify\n\u001B[1;32m---> 72\u001B[0m \u001B[38;5;28;01mreturn\u001B[39;00m simplify(expr)\n",
      "File \u001B[1;32m~\\.conda\\envs\\z\\Lib\\site-packages\\sympy\\simplify\\simplify.py:725\u001B[0m, in \u001B[0;36msimplify\u001B[1;34m(expr, ratio, measure, rational, inverse, doit, **kwargs)\u001B[0m\n\u001B[0;32m    722\u001B[0m     \u001B[38;5;28;01mfrom\u001B[39;00m \u001B[38;5;21;01msympy\u001B[39;00m\u001B[38;5;21;01m.\u001B[39;00m\u001B[38;5;21;01mphysics\u001B[39;00m\u001B[38;5;21;01m.\u001B[39;00m\u001B[38;5;21;01munits\u001B[39;00m\u001B[38;5;21;01m.\u001B[39;00m\u001B[38;5;21;01mutil\u001B[39;00m \u001B[38;5;28;01mimport\u001B[39;00m quantity_simplify\n\u001B[0;32m    723\u001B[0m     expr \u001B[38;5;241m=\u001B[39m quantity_simplify(expr)\n\u001B[1;32m--> 725\u001B[0m short \u001B[38;5;241m=\u001B[39m shorter(powsimp(expr, combine\u001B[38;5;241m=\u001B[39m\u001B[38;5;124m'\u001B[39m\u001B[38;5;124mexp\u001B[39m\u001B[38;5;124m'\u001B[39m, deep\u001B[38;5;241m=\u001B[39m\u001B[38;5;28;01mTrue\u001B[39;00m), powsimp(expr), expr)\n\u001B[0;32m    726\u001B[0m short \u001B[38;5;241m=\u001B[39m shorter(short, cancel(short))\n\u001B[0;32m    727\u001B[0m short \u001B[38;5;241m=\u001B[39m shorter(short, factor_terms(short), expand_power_exp(expand_mul(short)))\n",
      "File \u001B[1;32m~\\.conda\\envs\\z\\Lib\\site-packages\\sympy\\simplify\\powsimp.py:117\u001B[0m, in \u001B[0;36mpowsimp\u001B[1;34m(expr, deep, combine, force, measure)\u001B[0m\n\u001B[0;32m    114\u001B[0m     \u001B[38;5;28;01mreturn\u001B[39;00m expr\n\u001B[0;32m    116\u001B[0m \u001B[38;5;28;01mif\u001B[39;00m deep \u001B[38;5;129;01mor\u001B[39;00m expr\u001B[38;5;241m.\u001B[39mis_Add \u001B[38;5;129;01mor\u001B[39;00m expr\u001B[38;5;241m.\u001B[39mis_Mul \u001B[38;5;129;01mand\u001B[39;00m _y \u001B[38;5;129;01mnot\u001B[39;00m \u001B[38;5;129;01min\u001B[39;00m expr\u001B[38;5;241m.\u001B[39margs:\n\u001B[1;32m--> 117\u001B[0m     expr \u001B[38;5;241m=\u001B[39m expr\u001B[38;5;241m.\u001B[39mfunc(\u001B[38;5;241m*\u001B[39m[recurse(w) \u001B[38;5;28;01mfor\u001B[39;00m w \u001B[38;5;129;01min\u001B[39;00m expr\u001B[38;5;241m.\u001B[39margs])\n\u001B[0;32m    119\u001B[0m \u001B[38;5;28;01mif\u001B[39;00m expr\u001B[38;5;241m.\u001B[39mis_Pow:\n\u001B[0;32m    120\u001B[0m     \u001B[38;5;28;01mreturn\u001B[39;00m recurse(expr\u001B[38;5;241m*\u001B[39m_y, deep\u001B[38;5;241m=\u001B[39m\u001B[38;5;28;01mFalse\u001B[39;00m)\u001B[38;5;241m/\u001B[39m_y\n",
      "File \u001B[1;32m~\\.conda\\envs\\z\\Lib\\site-packages\\sympy\\simplify\\powsimp.py:108\u001B[0m, in \u001B[0;36mpowsimp.<locals>.recurse\u001B[1;34m(arg, **kwargs)\u001B[0m\n\u001B[0;32m    106\u001B[0m _force \u001B[38;5;241m=\u001B[39m kwargs\u001B[38;5;241m.\u001B[39mget(\u001B[38;5;124m'\u001B[39m\u001B[38;5;124mforce\u001B[39m\u001B[38;5;124m'\u001B[39m, force)\n\u001B[0;32m    107\u001B[0m _measure \u001B[38;5;241m=\u001B[39m kwargs\u001B[38;5;241m.\u001B[39mget(\u001B[38;5;124m'\u001B[39m\u001B[38;5;124mmeasure\u001B[39m\u001B[38;5;124m'\u001B[39m, measure)\n\u001B[1;32m--> 108\u001B[0m \u001B[38;5;28;01mreturn\u001B[39;00m powsimp(arg, _deep, _combine, _force, _measure)\n",
      "File \u001B[1;32m~\\.conda\\envs\\z\\Lib\\site-packages\\sympy\\simplify\\powsimp.py:117\u001B[0m, in \u001B[0;36mpowsimp\u001B[1;34m(expr, deep, combine, force, measure)\u001B[0m\n\u001B[0;32m    114\u001B[0m     \u001B[38;5;28;01mreturn\u001B[39;00m expr\n\u001B[0;32m    116\u001B[0m \u001B[38;5;28;01mif\u001B[39;00m deep \u001B[38;5;129;01mor\u001B[39;00m expr\u001B[38;5;241m.\u001B[39mis_Add \u001B[38;5;129;01mor\u001B[39;00m expr\u001B[38;5;241m.\u001B[39mis_Mul \u001B[38;5;129;01mand\u001B[39;00m _y \u001B[38;5;129;01mnot\u001B[39;00m \u001B[38;5;129;01min\u001B[39;00m expr\u001B[38;5;241m.\u001B[39margs:\n\u001B[1;32m--> 117\u001B[0m     expr \u001B[38;5;241m=\u001B[39m expr\u001B[38;5;241m.\u001B[39mfunc(\u001B[38;5;241m*\u001B[39m[recurse(w) \u001B[38;5;28;01mfor\u001B[39;00m w \u001B[38;5;129;01min\u001B[39;00m expr\u001B[38;5;241m.\u001B[39margs])\n\u001B[0;32m    119\u001B[0m \u001B[38;5;28;01mif\u001B[39;00m expr\u001B[38;5;241m.\u001B[39mis_Pow:\n\u001B[0;32m    120\u001B[0m     \u001B[38;5;28;01mreturn\u001B[39;00m recurse(expr\u001B[38;5;241m*\u001B[39m_y, deep\u001B[38;5;241m=\u001B[39m\u001B[38;5;28;01mFalse\u001B[39;00m)\u001B[38;5;241m/\u001B[39m_y\n",
      "File \u001B[1;32m~\\.conda\\envs\\z\\Lib\\site-packages\\sympy\\simplify\\powsimp.py:108\u001B[0m, in \u001B[0;36mpowsimp.<locals>.recurse\u001B[1;34m(arg, **kwargs)\u001B[0m\n\u001B[0;32m    106\u001B[0m _force \u001B[38;5;241m=\u001B[39m kwargs\u001B[38;5;241m.\u001B[39mget(\u001B[38;5;124m'\u001B[39m\u001B[38;5;124mforce\u001B[39m\u001B[38;5;124m'\u001B[39m, force)\n\u001B[0;32m    107\u001B[0m _measure \u001B[38;5;241m=\u001B[39m kwargs\u001B[38;5;241m.\u001B[39mget(\u001B[38;5;124m'\u001B[39m\u001B[38;5;124mmeasure\u001B[39m\u001B[38;5;124m'\u001B[39m, measure)\n\u001B[1;32m--> 108\u001B[0m \u001B[38;5;28;01mreturn\u001B[39;00m powsimp(arg, _deep, _combine, _force, _measure)\n",
      "File \u001B[1;32m~\\.conda\\envs\\z\\Lib\\site-packages\\sympy\\simplify\\powsimp.py:369\u001B[0m, in \u001B[0;36mpowsimp\u001B[1;34m(expr, deep, combine, force, measure)\u001B[0m\n\u001B[0;32m    365\u001B[0m \u001B[38;5;28;01massert\u001B[39;00m \u001B[38;5;28mlen\u001B[39m(c_powers) \u001B[38;5;241m==\u001B[39m check  \u001B[38;5;66;03m# there should have been no duplicates\u001B[39;00m\n\u001B[0;32m    366\u001B[0m \u001B[38;5;66;03m# ==============================================================\u001B[39;00m\n\u001B[0;32m    367\u001B[0m \n\u001B[0;32m    368\u001B[0m \u001B[38;5;66;03m# rebuild the expression\u001B[39;00m\n\u001B[1;32m--> 369\u001B[0m newexpr \u001B[38;5;241m=\u001B[39m expr\u001B[38;5;241m.\u001B[39mfunc(\u001B[38;5;241m*\u001B[39m(newexpr \u001B[38;5;241m+\u001B[39m [Pow(b, e) \u001B[38;5;28;01mfor\u001B[39;00m b, e \u001B[38;5;129;01min\u001B[39;00m c_powers\u001B[38;5;241m.\u001B[39mitems()]))\n\u001B[0;32m    370\u001B[0m \u001B[38;5;28;01mif\u001B[39;00m combine \u001B[38;5;241m==\u001B[39m \u001B[38;5;124m'\u001B[39m\u001B[38;5;124mexp\u001B[39m\u001B[38;5;124m'\u001B[39m:\n\u001B[0;32m    371\u001B[0m     \u001B[38;5;28;01mreturn\u001B[39;00m expr\u001B[38;5;241m.\u001B[39mfunc(newexpr, expr\u001B[38;5;241m.\u001B[39mfunc(\u001B[38;5;241m*\u001B[39mnc_part))\n",
      "File \u001B[1;32m~\\.conda\\envs\\z\\Lib\\site-packages\\sympy\\core\\cache.py:72\u001B[0m, in \u001B[0;36m__cacheit.<locals>.func_wrapper.<locals>.wrapper\u001B[1;34m(*args, **kwargs)\u001B[0m\n\u001B[0;32m     69\u001B[0m \u001B[38;5;129m@wraps\u001B[39m(func)\n\u001B[0;32m     70\u001B[0m \u001B[38;5;28;01mdef\u001B[39;00m \u001B[38;5;21mwrapper\u001B[39m(\u001B[38;5;241m*\u001B[39margs, \u001B[38;5;241m*\u001B[39m\u001B[38;5;241m*\u001B[39mkwargs):\n\u001B[0;32m     71\u001B[0m     \u001B[38;5;28;01mtry\u001B[39;00m:\n\u001B[1;32m---> 72\u001B[0m         retval \u001B[38;5;241m=\u001B[39m cfunc(\u001B[38;5;241m*\u001B[39margs, \u001B[38;5;241m*\u001B[39m\u001B[38;5;241m*\u001B[39mkwargs)\n\u001B[0;32m     73\u001B[0m     \u001B[38;5;28;01mexcept\u001B[39;00m \u001B[38;5;167;01mTypeError\u001B[39;00m \u001B[38;5;28;01mas\u001B[39;00m e:\n\u001B[0;32m     74\u001B[0m         \u001B[38;5;28;01mif\u001B[39;00m \u001B[38;5;129;01mnot\u001B[39;00m e\u001B[38;5;241m.\u001B[39margs \u001B[38;5;129;01mor\u001B[39;00m \u001B[38;5;129;01mnot\u001B[39;00m e\u001B[38;5;241m.\u001B[39margs[\u001B[38;5;241m0\u001B[39m]\u001B[38;5;241m.\u001B[39mstartswith(\u001B[38;5;124m'\u001B[39m\u001B[38;5;124munhashable type:\u001B[39m\u001B[38;5;124m'\u001B[39m):\n",
      "File \u001B[1;32m~\\.conda\\envs\\z\\Lib\\site-packages\\sympy\\core\\operations.py:98\u001B[0m, in \u001B[0;36mAssocOp.__new__\u001B[1;34m(cls, evaluate, _sympify, *args)\u001B[0m\n\u001B[0;32m     95\u001B[0m \u001B[38;5;28;01mif\u001B[39;00m \u001B[38;5;28mlen\u001B[39m(args) \u001B[38;5;241m==\u001B[39m \u001B[38;5;241m1\u001B[39m:\n\u001B[0;32m     96\u001B[0m     \u001B[38;5;28;01mreturn\u001B[39;00m args[\u001B[38;5;241m0\u001B[39m]\n\u001B[1;32m---> 98\u001B[0m c_part, nc_part, order_symbols \u001B[38;5;241m=\u001B[39m \u001B[38;5;28mcls\u001B[39m\u001B[38;5;241m.\u001B[39mflatten(args)\n\u001B[0;32m     99\u001B[0m is_commutative \u001B[38;5;241m=\u001B[39m \u001B[38;5;129;01mnot\u001B[39;00m nc_part\n\u001B[0;32m    100\u001B[0m obj \u001B[38;5;241m=\u001B[39m \u001B[38;5;28mcls\u001B[39m\u001B[38;5;241m.\u001B[39m_from_args(c_part \u001B[38;5;241m+\u001B[39m nc_part, is_commutative)\n",
      "File \u001B[1;32m~\\.conda\\envs\\z\\Lib\\site-packages\\sympy\\core\\mul.py:558\u001B[0m, in \u001B[0;36mMul.flatten\u001B[1;34m(cls, seq)\u001B[0m\n\u001B[0;32m    555\u001B[0m \u001B[38;5;66;03m# b, e -> e' = sum(e), b\u001B[39;00m\n\u001B[0;32m    556\u001B[0m \u001B[38;5;66;03m# {(1/5, [1/3]), (1/2, [1/12, 1/4]} -> {(1/3, [1/5, 1/2])}\u001B[39;00m\n\u001B[0;32m    557\u001B[0m comb_e \u001B[38;5;241m=\u001B[39m {}\n\u001B[1;32m--> 558\u001B[0m \u001B[38;5;28;01mfor\u001B[39;00m b, e \u001B[38;5;129;01min\u001B[39;00m pnum_rat\u001B[38;5;241m.\u001B[39mitems():\n\u001B[0;32m    559\u001B[0m     comb_e\u001B[38;5;241m.\u001B[39msetdefault(Add(\u001B[38;5;241m*\u001B[39me), [])\u001B[38;5;241m.\u001B[39mappend(b)\n\u001B[0;32m    560\u001B[0m \u001B[38;5;28;01mdel\u001B[39;00m pnum_rat\n",
      "\u001B[1;31mKeyboardInterrupt\u001B[0m: "
     ]
    }
   ],
   "execution_count": 153
  },
  {
   "metadata": {
    "ExecuteTime": {
     "end_time": "2025-09-01T13:07:10.565762Z",
     "start_time": "2025-09-01T13:07:10.554695Z"
    }
   },
   "cell_type": "code",
   "source": [
    "class F2Poly:\n",
    "    def __init__(self, terms=None):\n",
    "        self.terms = {}\n",
    "        if terms:\n",
    "            for (i, j), coef in terms.items():\n",
    "                if coef % 2 == 1:  # 模 2\n",
    "                    self.terms[(i, j)] = 1  # 只存 1\n",
    "    def __add__(self, other):\n",
    "        \"\"\"F2 上的加法: (f + g) mod 2\"\"\"\n",
    "        result = self.terms.copy()\n",
    "        for (i, j), coef in other.terms.items():\n",
    "            if (i, j) in result:\n",
    "                del result[(i, j)]  # 1+1=0\n",
    "            else:\n",
    "                result[(i, j)] = 1\n",
    "        return F2Poly(result)\n",
    "    def __mul__(self, other):\n",
    "        \"\"\"乘法: f * g\"\"\"\n",
    "        result = {}\n",
    "        for (i1, j1) in self.terms:\n",
    "            for (i2, j2) in other.terms:\n",
    "                i_new, j_new = i1 + i2, j1 + j2\n",
    "                key = (i_new, j_new)\n",
    "                if key in result:\n",
    "                    del result[key]  # 1*1=1, 但可能重复 → 1+1=0\n",
    "                else:\n",
    "                    result[key] = 1\n",
    "        return F2Poly(result)\n",
    "    def __pow__(self, n):\n",
    "        if n == 0:\n",
    "            return F2Poly({(0, 0): 1})  # f^0 = 1\n",
    "\n",
    "        # 检查 self 是否是单项式（只有一项）或零\n",
    "        if len(self.terms) == 0:\n",
    "            if n > 0:\n",
    "                return F2Poly()  # 0^n = 0 (n>0)\n",
    "            else:\n",
    "                raise ValueError(\"0 的负幂次无定义\")\n",
    "        elif len(self.terms) == 1:\n",
    "            # 是单项式，如 x^i y^j\n",
    "            (i, j), coef = next(iter(self.terms.items()))\n",
    "            # 在 F2 中 coef=1，所以 f = x^i y^j\n",
    "            if n > 0:\n",
    "                # 正幂：指数乘 n\n",
    "                return F2Poly({(i * n, j * n): 1})\n",
    "            else:\n",
    "                # 负幂：f^{-n} = x^{-i*n} y^{-j*n}\n",
    "                return F2Poly({(-i * (-n), -j * (-n)): 1})  # 等价于 (-i*n, -j*n)\n",
    "        else:\n",
    "            # 多项式项数 > 1\n",
    "            if n < 0:\n",
    "                raise ValueError(f\"多项式 {self} 不可逆，无法计算负幂次\")\n",
    "            elif n == 1:\n",
    "                return self\n",
    "            elif n % 2 == 0:\n",
    "                return (self * self) ** (n // 2)\n",
    "            else:\n",
    "                return self * (self ** (n - 1))\n",
    "    def __repr__(self):\n",
    "        if not self.terms:\n",
    "            return \"0\"\n",
    "        sorted_terms = sorted(self.terms.keys())\n",
    "        terms = []\n",
    "        for (i, j) in sorted_terms:\n",
    "            xi = f\"x^{i}\" if i != 0 else \"\"\n",
    "            yj = f\"y^{j}\" if j != 0 else \"\"\n",
    "            term = xi + yj\n",
    "            if term == \"\":\n",
    "                term = \"1\"\n",
    "            terms.append(term)\n",
    "        return \" + \".join(terms)\n",
    "# 示例 1: 3x + 2y → 模 2 后是 x\n",
    "p1 = F2Poly({(1, 0): 3, (0, 1): 2,(3,3):5})\n",
    "p2=F2Poly({(0, 1): 1, (1, 2): 2, (2, 3): 5})\n",
    "print(p1)\n",
    "print(p2)\n",
    "print(p1 **5)"
   ],
   "id": "22e450150d428215",
   "outputs": [
    {
     "name": "stdout",
     "output_type": "stream",
     "text": [
      "x^1 + x^3y^3\n",
      "y^1 + x^2y^3\n",
      "x^5 + x^7y^3 + x^13y^12 + x^15y^15\n"
     ]
    }
   ],
   "execution_count": 172
  },
  {
   "metadata": {
    "ExecuteTime": {
     "end_time": "2025-09-01T11:49:22.036802Z",
     "start_time": "2025-09-01T11:49:22.024300Z"
    }
   },
   "cell_type": "code",
   "source": "\n",
   "id": "4f9d5526acaa6b87",
   "outputs": [
    {
     "name": "stdout",
     "output_type": "stream",
     "text": [
      "x: x^1\n",
      "y: y^1\n",
      "1/x: x^-1\n",
      "1/y: y^-1\n",
      "\n",
      "s1 = 1 + 1/x: x^-1 + 1\n",
      "s2 = 1 + y: 1 + y^1\n",
      "s1 * s2: x^-1 + x^-1y^1 + 1 + y^1\n",
      "f^2 = (1 + x + y)^2: 1 + y^2 + x^2\n",
      "g*h = (1/x + 1/y)(x + y): x^-1y^1 + x^1y^-1\n"
     ]
    }
   ],
   "execution_count": 157
  }
 ],
 "metadata": {
  "kernelspec": {
   "display_name": "Python 3",
   "language": "python",
   "name": "python3"
  },
  "language_info": {
   "codemirror_mode": {
    "name": "ipython",
    "version": 2
   },
   "file_extension": ".py",
   "mimetype": "text/x-python",
   "name": "python",
   "nbconvert_exporter": "python",
   "pygments_lexer": "ipython2",
   "version": "2.7.6"
  }
 },
 "nbformat": 4,
 "nbformat_minor": 5
}
