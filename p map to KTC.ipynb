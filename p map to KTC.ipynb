{
 "cells": [
  {
   "metadata": {
    "ExecuteTime": {
     "end_time": "2025-09-01T06:48:32.512802Z",
     "start_time": "2025-09-01T06:48:32.483384Z"
    }
   },
   "cell_type": "code",
   "source": [
    "from itertools import combinations\n",
    "import numpy as np\n",
    "from z3 import *\n",
    "from functools import reduce\n",
    "import sympy as sp\n",
    "from sympy import Mul, Pow, Add\n",
    "x=sp.Symbol('x')\n",
    "y=sp.Symbol('y')\n",
    "def antimap(f):\n",
    "    f = sp.expand(f)\n",
    "    term=f.as_ordered_terms()\n",
    "    exp=0\n",
    "    for i in range(len(term)):\n",
    "        coef,vari=term[i].as_coeff_Mul()\n",
    "        exp=exp+coef%2*vari**-1\n",
    "    return exp\n",
    "def commute(a,b):\n",
    "    a = sp.Matrix(a).T\n",
    "    b = sp.Matrix(b).T\n",
    "    lamb=sp.Matrix([[0,0,1,0],\n",
    "          [0,0,0,1],\n",
    "          [-1,0,0,0],\n",
    "          [0,-1,0,0]])\n",
    "    aa=[]\n",
    "    for i in range(len(a)):\n",
    "        aa.append(antimap(a[i]))\n",
    "    aa=sp.Matrix(aa)\n",
    "    f=(aa.T*lamb*b)[0]\n",
    "    f = sp.expand(f)\n",
    "    term=f.as_ordered_terms()\n",
    "    exp=0\n",
    "    for i in range(len(term)):\n",
    "        coef,vari=term[i].as_coeff_Mul()\n",
    "        exp=exp+coef%2*vari\n",
    "    return sp.simplify(exp)\n",
    "x1=sp.Matrix([1,0,0,0]).T\n",
    "x2=sp.Matrix([0,1,0,0]).T\n",
    "z1=sp.Matrix([0,0,1,0]).T\n",
    "z2=sp.Matrix([0,0,0,1]).T\n",
    "basis=[]\n",
    "basis.append(x1)\n",
    "basis.append(x2)\n",
    "basis.append(z1)\n",
    "basis.append(z2)\n",
    "def excimap(*A,oper):\n",
    "    s=[]\n",
    "    for i,M in enumerate(A):\n",
    "        s.append(M)\n",
    "    excitation=[]\n",
    "    for i in range(len(s)):\n",
    "        excitation.append(commute(s[i],oper))\n",
    "    return sp.Matrix(excitation).T\n",
    "def TDmap(f,m):\n",
    "    vari=[]\n",
    "    for j in range(2*m+1):\n",
    "        for i in range(2*m+1):\n",
    "            vari.append(x**(i-m)*y**(j-m))\n",
    "    s=[]\n",
    "    for i in range(len(vari)):\n",
    "        s.append(vari[i]*f)\n",
    "    return sp.Matrix(s).T"
   ],
   "id": "b5bb4833e6c182e3",
   "outputs": [],
   "execution_count": 42
  },
  {
   "metadata": {
    "ExecuteTime": {
     "end_time": "2025-09-01T06:49:02.068173Z",
     "start_time": "2025-09-01T06:49:02.022423Z"
    }
   },
   "cell_type": "code",
   "source": [
    "s1=(1-1/x)*x1+(1-1/y)*x2\n",
    "s2=(1-y)*z1+(x-1)*z2\n",
    "print(excimap(s1,s2,oper=x1))\n",
    "print(excimap(s1,s2,oper=x2))\n",
    "print(excimap(s1,s2,oper=z1))\n",
    "print(excimap(s1,s2,oper=z2))\n"
   ],
   "id": "108b970f6b0a931e",
   "outputs": [
    {
     "name": "stdout",
     "output_type": "stream",
     "text": [
      "Matrix([[0, (y + 1)/y]])\n",
      "Matrix([[0, (x + 1)/x]])\n",
      "Matrix([[x + 1, 0]])\n",
      "Matrix([[y + 1, 0]])\n"
     ]
    }
   ],
   "execution_count": 44
  },
  {
   "metadata": {
    "ExecuteTime": {
     "end_time": "2025-09-01T05:33:46.861442Z",
     "start_time": "2025-09-01T05:33:46.684616Z"
    }
   },
   "cell_type": "code",
   "source": "\n",
   "id": "f0536b94dc01870c",
   "outputs": [
    {
     "name": "stdout",
     "output_type": "stream",
     "text": [
      "[[(y + 1)/y, 0, 0, 0], [(x + 1)/x, 0, 0, 0], [x + 1, 0, 0, 0], [y + 1, 0, 0, 0]]\n"
     ]
    }
   ],
   "execution_count": 3
  }
 ],
 "metadata": {
  "kernelspec": {
   "display_name": "Python 3",
   "language": "python",
   "name": "python3"
  },
  "language_info": {
   "codemirror_mode": {
    "name": "ipython",
    "version": 2
   },
   "file_extension": ".py",
   "mimetype": "text/x-python",
   "name": "python",
   "nbconvert_exporter": "python",
   "pygments_lexer": "ipython2",
   "version": "2.7.6"
  }
 },
 "nbformat": 4,
 "nbformat_minor": 5
}
